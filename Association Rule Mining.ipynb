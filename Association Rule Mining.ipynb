{
 "cells": [
  {
   "cell_type": "code",
   "execution_count": 1,
   "metadata": {},
   "outputs": [],
   "source": [
    "import csv\n",
    "import pandas as pd"
   ]
  },
  {
   "cell_type": "code",
   "execution_count": 2,
   "metadata": {},
   "outputs": [],
   "source": [
    "def file_read(filename):\n",
    "    f = open(filename)\n",
    "    csv_f = csv.reader(f)\n",
    "\n",
    "    data = []\n",
    "\n",
    "    for row in csv_f:\n",
    "        data.append(row)\n",
    "    return data"
   ]
  },
  {
   "cell_type": "code",
   "execution_count": 3,
   "metadata": {},
   "outputs": [],
   "source": [
    "InsulinBolusLunchPat1 = file_read('InsulinBolusLunchPat1.csv')[1:]\n",
    "InsulinBolusLunchPat2 = file_read('InsulinBolusLunchPat2.csv')[1:]\n",
    "InsulinBolusLunchPat3 = file_read('InsulinBolusLunchPat3.csv')[1:]\n",
    "InsulinBolusLunchPat4 = file_read('InsulinBolusLunchPat4.csv')[1:]\n",
    "InsulinBolusLunchPat5 = file_read('InsulinBolusLunchPat5.csv')[1:]"
   ]
  },
  {
   "cell_type": "code",
   "execution_count": 4,
   "metadata": {},
   "outputs": [],
   "source": [
    "def max_bolus_insulin_data(InsulinBolusLunchPat):\n",
    "    bolusInsulinDatapat = []\n",
    "    for i in range(len(InsulinBolusLunchPat)):\n",
    "        bolusInsulinDatapat.append(max(InsulinBolusLunchPat[i]))\n",
    "    return bolusInsulinDatapat"
   ]
  },
  {
   "cell_type": "code",
   "execution_count": 5,
   "metadata": {},
   "outputs": [],
   "source": [
    "bolusInsulinDatapat1 = pd.DataFrame(max_bolus_insulin_data(InsulinBolusLunchPat1)).rename(columns={0:'I_B'}).astype(float)\n",
    "bolusInsulinDatapat2 = pd.DataFrame(max_bolus_insulin_data(InsulinBolusLunchPat2)).rename(columns={0:'I_B'}).astype(float)\n",
    "bolusInsulinDatapat3 = pd.DataFrame(max_bolus_insulin_data(InsulinBolusLunchPat3)).rename(columns={0:'I_B'}).astype(float)\n",
    "bolusInsulinDatapat4 = pd.DataFrame(max_bolus_insulin_data(InsulinBolusLunchPat4)).rename(columns={0:'I_B'}).astype(float)\n",
    "bolusInsulinDatapat5 = pd.DataFrame(max_bolus_insulin_data(InsulinBolusLunchPat5)).rename(columns={0:'I_B'}).astype(float)"
   ]
  },
  {
   "cell_type": "code",
   "execution_count": 6,
   "metadata": {},
   "outputs": [],
   "source": [
    "CGMSeriesLunchPat1 = file_read('CGMSeriesLunchPat1.csv')[1:]\n",
    "CGMSeriesLunchPat2 = file_read('CGMSeriesLunchPat2.csv')[1:]\n",
    "CGMSeriesLunchPat3 = file_read('CGMSeriesLunchPat3.csv')[1:]\n",
    "CGMSeriesLunchPat4 = file_read('CGMSeriesLunchPat4.csv')[1:]\n",
    "CGMSeriesLunchPat5 = file_read('CGMSeriesLunchPat5.csv')[1:]"
   ]
  },
  {
   "cell_type": "code",
   "execution_count": 7,
   "metadata": {},
   "outputs": [],
   "source": [
    "def max_cgm_level_data(CGMSeriesLunchPat):\n",
    "    maxCGMLevel = []\n",
    "    for i in range(len(CGMSeriesLunchPat)):\n",
    "        maxCGMLevel.append(max(CGMSeriesLunchPat[i]))\n",
    "    return maxCGMLevel"
   ]
  },
  {
   "cell_type": "code",
   "execution_count": 9,
   "metadata": {},
   "outputs": [],
   "source": [
    "maxCGMLevelpat1 = pd.DataFrame(max_cgm_level_data(CGMSeriesLunchPat1)).rename(columns={0:'CGM_M'}).astype(float)\n",
    "maxCGMLevelpat2 = pd.DataFrame(max_cgm_level_data(CGMSeriesLunchPat2)).rename(columns={0:'CGM_M'}).astype(float)\n",
    "maxCGMLevelpat3 = pd.DataFrame(max_cgm_level_data(CGMSeriesLunchPat3)).rename(columns={0:'CGM_M'}).astype(float)\n",
    "maxCGMLevelpat4 = pd.DataFrame(max_cgm_level_data(CGMSeriesLunchPat4)).rename(columns={0:'CGM_M'}).astype(float)\n",
    "maxCGMLevelpat5 = pd.DataFrame(max_cgm_level_data(CGMSeriesLunchPat5)).rename(columns={0:'CGM_M'}).astype(float)"
   ]
  },
  {
   "cell_type": "code",
   "execution_count": null,
   "metadata": {},
   "outputs": [],
   "source": []
  },
  {
   "cell_type": "code",
   "execution_count": 10,
   "metadata": {},
   "outputs": [],
   "source": [
    "# spcl_char = CGMSeriesLunchPat4[1][-1]\n",
    "# def extract_sixth_val(CGMSeriesLunchPat):\n",
    "#     sixth_val = []\n",
    "#     for i in range(len(CGMSeriesLunchPat)):   \n",
    "#         filter_obj = list(filter(lambda x: x !=spcl_char , CGMSeriesLunchPat))\n",
    "#         CGMSeriesLunchPat = filter_obj\n",
    "#         sixth_val.append(CGMSeriesLunchPat[i][::-1][5])\n",
    "#     return sixth_val"
   ]
  },
  {
   "cell_type": "code",
   "execution_count": null,
   "metadata": {},
   "outputs": [],
   "source": []
  },
  {
   "cell_type": "code",
   "execution_count": null,
   "metadata": {},
   "outputs": [],
   "source": []
  },
  {
   "cell_type": "code",
   "execution_count": null,
   "metadata": {},
   "outputs": [],
   "source": []
  },
  {
   "cell_type": "code",
   "execution_count": 12,
   "metadata": {},
   "outputs": [
    {
     "ename": "NameError",
     "evalue": "name 'extract_sixth_val' is not defined",
     "output_type": "error",
     "traceback": [
      "\u001b[1;31m---------------------------------------------------------------------------\u001b[0m",
      "\u001b[1;31mNameError\u001b[0m                                 Traceback (most recent call last)",
      "\u001b[1;32m<ipython-input-12-27b46ca97bdc>\u001b[0m in \u001b[0;36m<module>\u001b[1;34m\u001b[0m\n\u001b[1;32m----> 1\u001b[1;33m \u001b[0msixth_val_pat1\u001b[0m \u001b[1;33m=\u001b[0m \u001b[0mpd\u001b[0m\u001b[1;33m.\u001b[0m\u001b[0mDataFrame\u001b[0m\u001b[1;33m(\u001b[0m\u001b[0mextract_sixth_val\u001b[0m\u001b[1;33m(\u001b[0m\u001b[0mCGMSeriesLunchPat1\u001b[0m\u001b[1;33m)\u001b[0m\u001b[1;33m)\u001b[0m\u001b[1;33m.\u001b[0m\u001b[0mrename\u001b[0m\u001b[1;33m(\u001b[0m\u001b[0mcolumns\u001b[0m\u001b[1;33m=\u001b[0m\u001b[1;33m{\u001b[0m\u001b[1;36m0\u001b[0m\u001b[1;33m:\u001b[0m\u001b[1;34m'CGM_0'\u001b[0m\u001b[1;33m}\u001b[0m\u001b[1;33m)\u001b[0m\u001b[1;33m.\u001b[0m\u001b[0mastype\u001b[0m\u001b[1;33m(\u001b[0m\u001b[0mfloat\u001b[0m\u001b[1;33m)\u001b[0m\u001b[1;33m\u001b[0m\u001b[1;33m\u001b[0m\u001b[0m\n\u001b[0m\u001b[0;32m      2\u001b[0m \u001b[0msixth_val_pat2\u001b[0m \u001b[1;33m=\u001b[0m \u001b[0mpd\u001b[0m\u001b[1;33m.\u001b[0m\u001b[0mDataFrame\u001b[0m\u001b[1;33m(\u001b[0m\u001b[0mextract_sixth_val\u001b[0m\u001b[1;33m(\u001b[0m\u001b[0mCGMSeriesLunchPat2\u001b[0m\u001b[1;33m)\u001b[0m\u001b[1;33m)\u001b[0m\u001b[1;33m.\u001b[0m\u001b[0mrename\u001b[0m\u001b[1;33m(\u001b[0m\u001b[0mcolumns\u001b[0m\u001b[1;33m=\u001b[0m\u001b[1;33m{\u001b[0m\u001b[1;36m0\u001b[0m\u001b[1;33m:\u001b[0m\u001b[1;34m'CGM_0'\u001b[0m\u001b[1;33m}\u001b[0m\u001b[1;33m)\u001b[0m\u001b[1;33m.\u001b[0m\u001b[0mastype\u001b[0m\u001b[1;33m(\u001b[0m\u001b[0mfloat\u001b[0m\u001b[1;33m)\u001b[0m\u001b[1;33m\u001b[0m\u001b[1;33m\u001b[0m\u001b[0m\n\u001b[0;32m      3\u001b[0m \u001b[0msixth_val_pat3\u001b[0m \u001b[1;33m=\u001b[0m \u001b[0mpd\u001b[0m\u001b[1;33m.\u001b[0m\u001b[0mDataFrame\u001b[0m\u001b[1;33m(\u001b[0m\u001b[0mextract_sixth_val\u001b[0m\u001b[1;33m(\u001b[0m\u001b[0mCGMSeriesLunchPat3\u001b[0m\u001b[1;33m)\u001b[0m\u001b[1;33m)\u001b[0m\u001b[1;33m.\u001b[0m\u001b[0mrename\u001b[0m\u001b[1;33m(\u001b[0m\u001b[0mcolumns\u001b[0m\u001b[1;33m=\u001b[0m\u001b[1;33m{\u001b[0m\u001b[1;36m0\u001b[0m\u001b[1;33m:\u001b[0m\u001b[1;34m'CGM_0'\u001b[0m\u001b[1;33m}\u001b[0m\u001b[1;33m)\u001b[0m\u001b[1;33m.\u001b[0m\u001b[0mastype\u001b[0m\u001b[1;33m(\u001b[0m\u001b[0mfloat\u001b[0m\u001b[1;33m)\u001b[0m\u001b[1;33m\u001b[0m\u001b[1;33m\u001b[0m\u001b[0m\n\u001b[0;32m      4\u001b[0m \u001b[0msixth_val_pat4\u001b[0m \u001b[1;33m=\u001b[0m \u001b[0mpd\u001b[0m\u001b[1;33m.\u001b[0m\u001b[0mDataFrame\u001b[0m\u001b[1;33m(\u001b[0m\u001b[0mextract_sixth_val\u001b[0m\u001b[1;33m(\u001b[0m\u001b[0mCGMSeriesLunchPat4\u001b[0m\u001b[1;33m)\u001b[0m\u001b[1;33m)\u001b[0m\u001b[1;33m.\u001b[0m\u001b[0mrename\u001b[0m\u001b[1;33m(\u001b[0m\u001b[0mcolumns\u001b[0m\u001b[1;33m=\u001b[0m\u001b[1;33m{\u001b[0m\u001b[1;36m0\u001b[0m\u001b[1;33m:\u001b[0m\u001b[1;34m'CGM_0'\u001b[0m\u001b[1;33m}\u001b[0m\u001b[1;33m)\u001b[0m\u001b[1;33m.\u001b[0m\u001b[0mastype\u001b[0m\u001b[1;33m(\u001b[0m\u001b[0mfloat\u001b[0m\u001b[1;33m)\u001b[0m\u001b[1;33m\u001b[0m\u001b[1;33m\u001b[0m\u001b[0m\n\u001b[0;32m      5\u001b[0m \u001b[0msixth_val_pat5\u001b[0m \u001b[1;33m=\u001b[0m \u001b[0mpd\u001b[0m\u001b[1;33m.\u001b[0m\u001b[0mDataFrame\u001b[0m\u001b[1;33m(\u001b[0m\u001b[0mextract_sixth_val\u001b[0m\u001b[1;33m(\u001b[0m\u001b[0mCGMSeriesLunchPat5\u001b[0m\u001b[1;33m)\u001b[0m\u001b[1;33m)\u001b[0m\u001b[1;33m.\u001b[0m\u001b[0mrename\u001b[0m\u001b[1;33m(\u001b[0m\u001b[0mcolumns\u001b[0m\u001b[1;33m=\u001b[0m\u001b[1;33m{\u001b[0m\u001b[1;36m0\u001b[0m\u001b[1;33m:\u001b[0m\u001b[1;34m'CGM_0'\u001b[0m\u001b[1;33m}\u001b[0m\u001b[1;33m)\u001b[0m\u001b[1;33m.\u001b[0m\u001b[0mastype\u001b[0m\u001b[1;33m(\u001b[0m\u001b[0mfloat\u001b[0m\u001b[1;33m)\u001b[0m\u001b[1;33m\u001b[0m\u001b[1;33m\u001b[0m\u001b[0m\n",
      "\u001b[1;31mNameError\u001b[0m: name 'extract_sixth_val' is not defined"
     ]
    }
   ],
   "source": [
    "sixth_val_pat1 = pd.DataFrame(extract_sixth_val(CGMSeriesLunchPat1)).rename(columns={0:'CGM_0'}).astype(float)\n",
    "sixth_val_pat2 = pd.DataFrame(extract_sixth_val(CGMSeriesLunchPat2)).rename(columns={0:'CGM_0'}).astype(float)\n",
    "sixth_val_pat3 = pd.DataFrame(extract_sixth_val(CGMSeriesLunchPat3)).rename(columns={0:'CGM_0'}).astype(float)\n",
    "sixth_val_pat4 = pd.DataFrame(extract_sixth_val(CGMSeriesLunchPat4)).rename(columns={0:'CGM_0'}).astype(float)\n",
    "sixth_val_pat5 = pd.DataFrame(extract_sixth_val(CGMSeriesLunchPat5)).rename(columns={0:'CGM_0'}).astype(float)"
   ]
  },
  {
   "cell_type": "code",
   "execution_count": null,
   "metadata": {},
   "outputs": [],
   "source": [
    "dataset_pat1 = pd.concat([maxCGMLevelpat1,sixth_val_pat1,bolusInsulinDatapat1],axis=1)\n",
    "dataset_pat2 = pd.concat([maxCGMLevelpat1,sixth_val_pat1,bolusInsulinDatapat1],axis=1)\n",
    "dataset_pat3 = pd.concat([maxCGMLevelpat1,sixth_val_pat1,bolusInsulinDatapat1],axis=1)\n",
    "dataset_pat4 = pd.concat([maxCGMLevelpat1,sixth_val_pat1,bolusInsulinDatapat1],axis=1)\n",
    "dataset_pat5 = pd.concat([maxCGMLevelpat1,sixth_val_pat1,bolusInsulinDatapat1],axis=1)"
   ]
  },
  {
   "cell_type": "code",
   "execution_count": null,
   "metadata": {},
   "outputs": [],
   "source": [
    "# import pandas as pd\n",
    "# from mlxtend.preprocessing import TransactionEncoder\n",
    "# from mlxtend.frequent_patterns import apriori"
   ]
  },
  {
   "cell_type": "code",
   "execution_count": null,
   "metadata": {},
   "outputs": [],
   "source": [
    "# te = TransactionEncoder()\n",
    "# te_ary = te.fit(dataset_pat1).transform(dataset_pat1)\n",
    "# df = pd.DataFrame(te_ary, columns=te.columns_)\n",
    "# frequent_itemsets = apriori(df, min_support=0.6, use_colnames=True)"
   ]
  },
  {
   "cell_type": "code",
   "execution_count": null,
   "metadata": {},
   "outputs": [],
   "source": [
    "# def bin_cgm(x):\n",
    "#     if(x<=50):\n",
    "#         x = 0\n",
    "#     elif(50<x<=100):\n",
    "#         x=1\n",
    "#     elif(100<x<=150):\n",
    "#         x=2\n",
    "#     elif(150<x<=200):\n",
    "#         x=1"
   ]
  },
  {
   "cell_type": "code",
   "execution_count": null,
   "metadata": {},
   "outputs": [],
   "source": [
    "CGMSeriesLunchPat4[1][-1]"
   ]
  },
  {
   "cell_type": "code",
   "execution_count": null,
   "metadata": {},
   "outputs": [],
   "source": [
    "sixth_val_pat4"
   ]
  }
 ],
 "metadata": {
  "kernelspec": {
   "display_name": "Python 3",
   "language": "python",
   "name": "python3"
  },
  "language_info": {
   "codemirror_mode": {
    "name": "ipython",
    "version": 3
   },
   "file_extension": ".py",
   "mimetype": "text/x-python",
   "name": "python",
   "nbconvert_exporter": "python",
   "pygments_lexer": "ipython3",
   "version": "3.7.3"
  }
 },
 "nbformat": 4,
 "nbformat_minor": 2
}
